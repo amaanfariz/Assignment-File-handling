{
  "nbformat": 4,
  "nbformat_minor": 0,
  "metadata": {
    "colab": {
      "provenance": []
    },
    "kernelspec": {
      "name": "python3",
      "display_name": "Python 3"
    },
    "language_info": {
      "name": "python"
    }
  },
  "cells": [
    {
      "cell_type": "markdown",
      "source": [
        "## Files, exceptional handling, logging and memory management theory Questions"
      ],
      "metadata": {
        "id": "yO2uVHMtO34W"
      }
    },
    {
      "cell_type": "markdown",
      "source": [
        " Q1 What is the difference between interpreted and compiled languages\n",
        "\n",
        "   Ans-> A compiled language is a programming language that is converted into machine code so that the processor can execute it. The compiled languages are usually compiled, not interpreted\n",
        "\n",
        "   while Interpreted programming languages are those in which the source code is executed directly by an interpreter, without being compiled into machine code first."
      ],
      "metadata": {
        "id": "OagjrBbHO31A"
      }
    },
    {
      "cell_type": "markdown",
      "source": [
        "Q2 What is exception handling in Python\n",
        "\n",
        "  Ans-> Python Exception Handling handles errors that occur during the execution of a program. Exception handling allows to respond to the error, instead of crashing the running program.\n",
        "  \n",
        "  It enables you to catch and manage errors, making your code more robust and user-friendly."
      ],
      "metadata": {
        "id": "KjfVdyHvO3lf"
      }
    },
    {
      "cell_type": "markdown",
      "source": [
        "Q3 What is the purpose of the finally block in exception handling?\n",
        "\n",
        "  Ans->  It is used to execute important code such as closing resources, regardless of whether an exception is thrown or not. The finally block always executes when the try block exits, ensuring that cleanup code runs."
      ],
      "metadata": {
        "id": "OodmIQZFO3iD"
      }
    },
    {
      "cell_type": "markdown",
      "source": [
        "Q4 What is logging in Python\n",
        "\n",
        "  Ans-> Logging is a means of tracking events that happen when some software runs. If we don’t have any logging record and our program crashes, there are very few chances that we detect the cause of the problem. And if we detect the cause, it will consume a lot of time."
      ],
      "metadata": {
        "id": "Dgf_rnx2O3fj"
      }
    },
    {
      "cell_type": "markdown",
      "source": [
        "Q5  What is the significance of the __del__ method in Python\n",
        "\n",
        "  Ans-> __del__ is a destructor method which is called as soon as all references of the object are deleted i.e when an object is garbage collected."
      ],
      "metadata": {
        "id": "2CF5xc_hO3cR"
      }
    },
    {
      "cell_type": "markdown",
      "source": [
        "Q6 What is the difference between import and from ... import in Python\n",
        "\n",
        "  Ans-> In python when we call \"import\", it imports an entire code library.\n",
        "\n",
        "While \"from import\" imports a specific member or members of the library."
      ],
      "metadata": {
        "id": "0XAUmP_tO3Zs"
      }
    },
    {
      "cell_type": "markdown",
      "source": [
        "Q7 How can you handle multiple exceptions in Python\n",
        "\n",
        "  Ans-> For one we can write multiple except statements to handle multiple exceptions in python\n",
        "\n",
        "  or we can club all the exceptions in tuple with one except statement to get the desired result"
      ],
      "metadata": {
        "id": "W-64NMCvO3XB"
      }
    },
    {
      "cell_type": "markdown",
      "source": [
        "Q8 What is the purpose of the with statement when handling files in Python\n",
        "\n",
        "  Ans->  The \"with\" statement is used to simplify file handling by automatically managing the opening and closing of a file, ensuring that the file is properly closed even if an exception occurs, thus preventing resource leaks and potential file corruption"
      ],
      "metadata": {
        "id": "OCaBkKD_O3UF"
      }
    },
    {
      "cell_type": "markdown",
      "source": [
        "Q9 What is the difference between multithreading and multiprocessing\n",
        "\n",
        "  Ans-> Multithreading and multiprocessing are both ways to increase computing power, but they differ in how they use a processor\n",
        "\n",
        "  In Multiprocessing, CPUs are added to increase the computing speed of the system. Because of Multiprocessing, There are many processes are executed simultaneously.\n",
        "\n",
        "  Multithreading is a system in which multiple threads are created of a process for increasing the computing speed of the system. In multithreading, many threads of a process are executed simultaneously."
      ],
      "metadata": {
        "id": "gVnhvkDTO3RK"
      }
    },
    {
      "cell_type": "markdown",
      "source": [
        "Q10  What are the advantages of using logging in a program\n",
        "\n",
        "  Ans-> Using logging in a program provides significant advantages for debugging and monitoring application behavior, including: identifying the root cause of errors, analyzing performance issues, auditing security events, and ensuring compliance by providing a detailed record of system operations; essentially making it easier to troubleshoot problems, optimize performance, and understand how the application is functioning in a production environment."
      ],
      "metadata": {
        "id": "wflKyGUxO3OP"
      }
    },
    {
      "cell_type": "markdown",
      "source": [
        "Q11 What is memory management in Python\n",
        "\n",
        " Ans-> Python memory management is the process of allocating and dealing with memory so that our programs can run efficiently."
      ],
      "metadata": {
        "id": "JgREg9CbO3LP"
      }
    },
    {
      "cell_type": "markdown",
      "source": [
        "Q12 What are the basic steps involved in exception handling in Python?\n",
        "\n",
        "  Ans-> The steps are as follows\n",
        "  \n",
        "  Try Block: try block lets us test a block of code for errors. Python will “try” to execute the code in this block. If an exception occurs, execution will immediately jump to the except block.\n",
        "\n",
        "  except Block: except block enables us to handle the error or exception. If the code inside the try block throws an error, Python jumps to the except block and executes it.\n",
        "\n",
        "  else Block: else block is optional and if included, must follow all except blocks. The else block runs only if no exceptions are raised in the try block.\n",
        "\n",
        "  finally Block: finally block always runs, regardless of whether an exception occurred or not."
      ],
      "metadata": {
        "id": "Nw4kh-FCO2_S"
      }
    },
    {
      "cell_type": "markdown",
      "source": [
        "Q13 Why is memory management important in Python\n",
        "\n",
        " Ans-> Memory management in Python is efficient, allowing programmers to focus on building codes without worrying about memory allocation and deallocation complexities.\n",
        "\n",
        " Python memory management ensures that programs run smoothly and efficiently."
      ],
      "metadata": {
        "id": "LA30HsC-ac1X"
      }
    },
    {
      "cell_type": "markdown",
      "source": [
        "Q14 What is the role of try and except in exception handling\n",
        "\n",
        " Ans -> try Block: try block lets us test a block of code for errors. Python will “try” to execute the code in this block. If an exception occurs, execution will immediately jump to the except block.\n",
        "\n",
        "  except Block: except block enables us to handle the error or exception. If the code inside the try block throws an error, Python jumps to the except block and executes it."
      ],
      "metadata": {
        "id": "EAYfJ4kyacyI"
      }
    },
    {
      "cell_type": "markdown",
      "source": [
        "Q15 How does Python's garbage collection system work?\n",
        "\n",
        "  Ans-> Python's garbage collection (GC) is a system that automatically finds and removes objects that are no longer in use. This process frees up memory for new objects.\n",
        "\n",
        "  Keeps track of how many references an object has. When an object's reference count reaches zero, the GC removes it from memory.\n",
        "\n",
        "  "
      ],
      "metadata": {
        "id": "FCvlkmz6acfn"
      }
    },
    {
      "cell_type": "markdown",
      "source": [
        "Q16 What is the purpose of the else block in exception handling\n",
        "\n",
        " Ans-> else block is optional and if included, must follow all except blocks. The else block runs only if no exceptions are raised in the try block.\n",
        "\n",
        " If we want something to run only if certain conditions are fulfilled then we use the else block with the try block(try block has the condition to be fulfilled)"
      ],
      "metadata": {
        "id": "xMXm7yUwaccB"
      }
    },
    {
      "cell_type": "markdown",
      "source": [
        "Q17 What are the common logging levels in Python\n",
        "\n",
        "  Ans-> Debug =  This level gives detailed information, useful only when a problem is being diagnosed.\n",
        "\n",
        "  Info = This is used to confirm that everything is working as it should.\n",
        "\n",
        "  Warning = This level indicates that something unexpected has happened or some problem is about to happen in the near future.\n",
        "\n",
        "  Error = As it implies, an error has occurred. The software was unable to perform some function.\n",
        "  \n",
        "  Critical = A serious error has occurred. The program itself may shut down or not be able to continue running properly."
      ],
      "metadata": {
        "id": "NbGnifyXacZk"
      }
    },
    {
      "cell_type": "markdown",
      "source": [
        "Q18 What is the difference between os.fork() and multiprocessing in Python\n",
        "\n",
        " Ans->while using os.fork - The parent process uses os.fork() to fork the Python interpreter. The child process, when it begins, is effectively identical to the parent process. All resources of the parent are inherited by the child process.\n",
        "\n",
        " While in multiprocessing The parent process starts a fresh Python interpreter process. The child process will only inherit those resources necessary to run the process object’s run() method.\n"
      ],
      "metadata": {
        "id": "MXYAumqXacXJ"
      }
    },
    {
      "cell_type": "markdown",
      "source": [
        "Q19 F What is the importance of closing a file in Python?\n",
        "\n",
        " Ans-> When you open a file in Python, the operating system allocates system resources, such as memory and file handles, to manage the file.\n",
        "\n",
        " Also there can be\n",
        "\n",
        " Resource Leaks: If you don't close a file, the system resources used by that file will not be released, which can lead to resource leaks.\n",
        "\n",
        " Some file operations, such as writing or appending, require exclusive access to the file. If you don't close the file, it may remain locked, preventing other processes or applications from accessing the file."
      ],
      "metadata": {
        "id": "4QPcWKogacUp"
      }
    },
    {
      "cell_type": "markdown",
      "source": [
        "Q20 What is the difference between file.read() and file.readline() in Python\n",
        "\n",
        "  Ans-> the read() method is used to read a specified number of characters from a file or input stream, while the readline() method is used to read a single line from a file or input stream."
      ],
      "metadata": {
        "id": "-s8dcpfMacJX"
      }
    },
    {
      "cell_type": "markdown",
      "source": [
        "Q21 What is the logging module in Python used for?\n",
        "\n",
        "  Ans-> The \"logging\" module in Python is used to track and record events that occur during a program's execution, allowing developers to systematically log information about errors, warnings, debugging messages, and other important happenings within the application"
      ],
      "metadata": {
        "id": "2Cn-jMuKab85"
      }
    },
    {
      "cell_type": "markdown",
      "source": [
        "Q22 What is the os module in Python used for in file handling\n",
        "\n",
        "  Ans-> The OS module in Python is a tool for handling file-related tasks for programmers. The Python OS module is essential for file-related tasks, enabling efficient file and directory management in programs."
      ],
      "metadata": {
        "id": "iMPl6AP3abvE"
      }
    },
    {
      "cell_type": "markdown",
      "source": [
        "Q23  What are the challenges associated with memory management in Python\n",
        "\n",
        "  Ans-> Python memory management doesn’t offer the same level of manual customizability compared to other programming languages.\n",
        "\n",
        "  Program runtimes can potentially experience slower rates as sometimes the program holds freed memory in the interpreter rather than freeing it up for use by the operating system."
      ],
      "metadata": {
        "id": "C_-nTmoNabDS"
      }
    },
    {
      "cell_type": "markdown",
      "source": [
        "Q24 How do you raise an exception manually in Python\n",
        "\n",
        "  Ans-> The raise keyword is used to raise an exception manually\n",
        "\n",
        "  x = -1\n",
        "\n",
        "if x < 0:\n",
        "\n",
        "  raise Exception(\"Sorry, no numbers below zero\")"
      ],
      "metadata": {
        "id": "OWrS4QLroVZs"
      }
    },
    {
      "cell_type": "markdown",
      "source": [
        "Q25 Why is it important to use multithreading in certain applications?\n",
        "\n",
        " Ans-> Multithreading is a crucial concept in modern computing that allows multiple threads to execute concurrently, enabling more efficient utilization of system resources. By breaking down tasks into smaller threads, applications can achieve higher performance, better responsiveness, and enhanced scalability."
      ],
      "metadata": {
        "id": "ScNac-ejoU0W"
      }
    },
    {
      "cell_type": "markdown",
      "source": [
        "## Practical"
      ],
      "metadata": {
        "id": "HrOgC3HLTi0f"
      }
    },
    {
      "cell_type": "code",
      "source": [
        "from os import write\n",
        "#Q1 How can you open a file for writing in Python and write a string to it\n",
        "\n",
        "with open (\"file.txt\", \"w\") as aa:\n",
        "  aa.write(\"Hello World\\n\")\n",
        "  aa.write(\"How are You\\n\")\n",
        "  aa.write(\"What are you doing\\n\")"
      ],
      "metadata": {
        "id": "o_fhxuZlTiDe"
      },
      "execution_count": 6,
      "outputs": []
    },
    {
      "cell_type": "code",
      "execution_count": null,
      "metadata": {
        "colab": {
          "base_uri": "https://localhost:8080/"
        },
        "id": "10lVlG1LOvv3",
        "outputId": "1673528f-09cf-4e25-f564-2e99cca37cec"
      },
      "outputs": [
        {
          "output_type": "stream",
          "name": "stdout",
          "text": [
            "Hello World\n",
            "How are You\n",
            "What are you doing\n"
          ]
        }
      ],
      "source": [
        "#Q2\n",
        "\n",
        "with open (\"file.txt\",\"r\") as fo:\n",
        "  for i in fo:\n",
        "    print(i.strip())\n",
        "\n"
      ]
    },
    {
      "cell_type": "code",
      "source": [
        "#Q3 How would you handle a case where the file doesn't exist while trying to open it for reading\n",
        "try:\n",
        "  with open (\"example.txt\",\"r\") as gh:\n",
        "    pass\n",
        "except Exception as e:\n",
        "  print(\"There is an issue\",e)"
      ],
      "metadata": {
        "colab": {
          "base_uri": "https://localhost:8080/"
        },
        "id": "mAXTu_2UTvkr",
        "outputId": "f9f1cb13-8518-41ed-baa0-9b661b8a39dd"
      },
      "execution_count": null,
      "outputs": [
        {
          "output_type": "stream",
          "name": "stdout",
          "text": [
            "There is an issue [Errno 2] No such file or directory: 'example.txt'\n"
          ]
        }
      ]
    },
    {
      "cell_type": "code",
      "source": [
        "#Q4 Write a Python script that reads from one file and writes its content to another file\n",
        "\n",
        "with open(\"file.txt\", \"r\") as inp:\n",
        "    with open(\"New_file.txt\", \"w\") as output:\n",
        "        for line in inp:\n",
        "            output.write(line)\n",
        "\n",
        "output"
      ],
      "metadata": {
        "id": "QkCroJJMTv25",
        "colab": {
          "base_uri": "https://localhost:8080/"
        },
        "outputId": "37b55a78-ec99-4939-816f-60e711bff6ea"
      },
      "execution_count": 32,
      "outputs": [
        {
          "output_type": "execute_result",
          "data": {
            "text/plain": [
              "<_io.TextIOWrapper name='New_file.txt' mode='w' encoding='UTF-8'>"
            ]
          },
          "metadata": {},
          "execution_count": 32
        }
      ]
    },
    {
      "cell_type": "code",
      "source": [
        "#Q5 How would you catch and handle division by zero error in Python\n",
        "\n",
        "ab = (int(input(\"Enter a numerator: \")))\n",
        "cd = (int(input(\"Enter a Denominator: \")))\n",
        "try:\n",
        "  divide=(ab/cd)\n",
        "  print (divide)\n",
        "except ZeroDivisionError:\n",
        "  print(\"error occoured\")\n",
        "\n"
      ],
      "metadata": {
        "colab": {
          "base_uri": "https://localhost:8080/"
        },
        "id": "qPBBkEcLTwFy",
        "outputId": "dbe9adaf-f993-4688-be47-65cda47c99f4"
      },
      "execution_count": null,
      "outputs": [
        {
          "output_type": "stream",
          "name": "stdout",
          "text": [
            "Enter a numerator: 56\n",
            "Enter a Denominator: 0\n",
            "error occoured\n"
          ]
        }
      ]
    },
    {
      "cell_type": "code",
      "source": [
        "#Q6 Write a Python program that logs an error message to a log file when a division by zero exception occurs\n",
        "import logging\n",
        "\n",
        "log=logging.getLogger(\"Mylog\")\n",
        "ab = (int(input(\"Enter a numerator: \")))\n",
        "cd = (int(input(\"Enter a Denominator: \")))\n",
        "try:\n",
        "  divide=(ab/cd)\n",
        "  print (divide)\n",
        "except ZeroDivisionError:\n",
        "  log.error(\"ZeroDivisionError\")\n",
        "  print(\"error occoured\")\n",
        "\n",
        "\n"
      ],
      "metadata": {
        "colab": {
          "base_uri": "https://localhost:8080/"
        },
        "id": "eOpnN12ZTwTu",
        "outputId": "0adcf8c5-1836-4a00-ff76-2ab8acc049cc"
      },
      "execution_count": null,
      "outputs": [
        {
          "name": "stdout",
          "output_type": "stream",
          "text": [
            "Enter a numerator: 34\n",
            "Enter a Denominator: 0\n"
          ]
        },
        {
          "output_type": "stream",
          "name": "stderr",
          "text": [
            "ERROR:Mylog:ZeroDivisionError\n"
          ]
        },
        {
          "output_type": "stream",
          "name": "stdout",
          "text": [
            "error occoured\n"
          ]
        }
      ]
    },
    {
      "cell_type": "code",
      "source": [
        "#Q7 How do you log information at different levels (INFO, ERROR, WARNING) in Python using the logging module\n",
        "\n",
        "log.critical(\"This is critical\")\n",
        "log.error(\"This is an error\")\n",
        "log.warning(\"This is a warning\")"
      ],
      "metadata": {
        "id": "SrqzsLCPTwfl",
        "colab": {
          "base_uri": "https://localhost:8080/"
        },
        "outputId": "c2418941-38b4-463b-8bae-94efed9e4ffa"
      },
      "execution_count": null,
      "outputs": [
        {
          "output_type": "stream",
          "name": "stderr",
          "text": [
            "CRITICAL:Mylog:This is critical\n",
            "ERROR:Mylog:This is an error\n",
            "WARNING:Mylog:This is a warning\n"
          ]
        }
      ]
    },
    {
      "cell_type": "code",
      "source": [
        "#Q8 Write a program to handle a file opening error using exception handling\n",
        "\n",
        "try:\n",
        "  with open (\"age.txt\",\"r\"):\n",
        "    pass\n",
        "except Exception as e:\n",
        "  print(\"There is an error\",e)"
      ],
      "metadata": {
        "id": "qf3JkvT_Twpz",
        "colab": {
          "base_uri": "https://localhost:8080/"
        },
        "outputId": "13483ab6-016e-44fa-ed32-9fd38cbac70f"
      },
      "execution_count": null,
      "outputs": [
        {
          "output_type": "stream",
          "name": "stdout",
          "text": [
            "There is an error [Errno 2] No such file or directory: 'age.txt'\n"
          ]
        }
      ]
    },
    {
      "cell_type": "code",
      "source": [
        "#Q9 How can you read a file line by line and store its content in a list in Python\n",
        "list1=[]\n",
        "with open(\"file.txt\",\"r\") as ff:\n",
        "  for i in ff:\n",
        "    list1.append(i)\n",
        "\n",
        "list1"
      ],
      "metadata": {
        "id": "q_vVbYpSTw3h",
        "colab": {
          "base_uri": "https://localhost:8080/"
        },
        "outputId": "e2efb907-78c0-44e8-c34b-536a2ade462b"
      },
      "execution_count": null,
      "outputs": [
        {
          "output_type": "execute_result",
          "data": {
            "text/plain": [
              "['Hello World\\n', 'How are You\\n', 'What are you doing\\n']"
            ]
          },
          "metadata": {},
          "execution_count": 59
        }
      ]
    },
    {
      "cell_type": "code",
      "source": [
        "#Q10 How can you append data to an existing file in Python\n",
        "\n",
        "fi = open('file.txt', 'a')\n",
        "fi.write('\\n This is a new line of text.')\n",
        "fi.close()"
      ],
      "metadata": {
        "id": "btsjJUTNiqiY"
      },
      "execution_count": null,
      "outputs": []
    },
    {
      "cell_type": "code",
      "source": [
        "#Q11 Write a Python program that uses a try-except block to handle an error when attempting to access a dictionary key that doesn't exist\n",
        "\n",
        "country_code = {'India': '91',\n",
        "                'Australia': '25',\n",
        "                'Nepal': '977'}\n",
        "\n",
        "try:\n",
        "    print(country_code['India'])\n",
        "    print(country_code['USA'])\n",
        "except KeyError:\n",
        "    print('Not Found')\n",
        "\n"
      ],
      "metadata": {
        "id": "PGl4I7ePjM28",
        "colab": {
          "base_uri": "https://localhost:8080/"
        },
        "outputId": "f347981e-3d8c-4d29-b69a-60789e23db42"
      },
      "execution_count": 1,
      "outputs": [
        {
          "output_type": "stream",
          "name": "stdout",
          "text": [
            "91\n",
            "Not Found\n"
          ]
        }
      ]
    },
    {
      "cell_type": "code",
      "source": [
        "# Q12 Write a program that demonstrates using multiple except blocks to handle different types of exceptions\n",
        "\n",
        "try:\n",
        "    user_input = int(input(\"Enter a number: \"))\n",
        "    result = 100 / user_input\n",
        "    print(f\"Result: {result}\")\n",
        "except ValueError:\n",
        "    print(\"Oops, that's not a valid number!\")\n",
        "except ZeroDivisionError:\n",
        "    print(\"Cannot divide by zero!\")"
      ],
      "metadata": {
        "colab": {
          "base_uri": "https://localhost:8080/"
        },
        "id": "svNw71R-6OdK",
        "outputId": "f37214ac-828b-49ae-ce37-3ae749bdcf18"
      },
      "execution_count": 2,
      "outputs": [
        {
          "output_type": "stream",
          "name": "stdout",
          "text": [
            "Enter a number: t\n",
            "Oops, that's not a valid number!\n"
          ]
        }
      ]
    },
    {
      "cell_type": "code",
      "source": [
        "#Q13 How would you check if a file exists before attempting to read it in Python\n",
        "\n",
        "from pathlib import Path\n",
        "file_path = Path('example.txt')\n",
        "if file_path.exists():\n",
        "    print(\"File exists!\")\n",
        "else:\n",
        "    print(\"File does not exist.\")"
      ],
      "metadata": {
        "colab": {
          "base_uri": "https://localhost:8080/"
        },
        "id": "QVKzr3BG6O9g",
        "outputId": "9c8407b4-9a04-4473-f5af-93f757036b2f"
      },
      "execution_count": 3,
      "outputs": [
        {
          "output_type": "stream",
          "name": "stdout",
          "text": [
            "File does not exist.\n"
          ]
        }
      ]
    },
    {
      "cell_type": "code",
      "source": [
        "#Q14 Write a program that uses the logging module to log both informational and error messages\n",
        "\n",
        "import logging\n",
        "\n",
        "logging.basicConfig(filename=\"Mylog.log\",level=logging.INFO)\n",
        "aa = (int(input(\"Enter a numerator: \")))\n",
        "bb = (int(input(\"Enter a Denominator: \")))\n",
        "\n",
        "logging.info(\"This is the to get user input\")\n",
        "\n",
        "try:\n",
        "  divide=(aa/bb)\n",
        "  print (divide)\n",
        "except ZeroDivisionError:\n",
        "\n",
        "  log.error(\"ZeroDivisionError\")\n",
        "\n",
        "  print(\"error occoured\")\n"
      ],
      "metadata": {
        "colab": {
          "base_uri": "https://localhost:8080/"
        },
        "id": "8Snp-FJc6PKu",
        "outputId": "7489f5e9-523f-4019-fcca-7f78747e3ae0"
      },
      "execution_count": 5,
      "outputs": [
        {
          "output_type": "stream",
          "name": "stdout",
          "text": [
            "Enter a numerator: 65\n",
            "Enter a Denominator: 9\n",
            "7.222222222222222\n"
          ]
        }
      ]
    },
    {
      "cell_type": "code",
      "source": [
        "#Q15 Write a Python program that prints the content of a file and handles the case when the file is empty\n",
        "with open(\"hello.txt\",\"w\"):\n",
        "  pass\n",
        "try:\n",
        "  with open(\"hello.txt\", 'r') as fi:\n",
        "\n",
        "    first_char = fi.read(1)\n",
        "\n",
        "    if not first_char:\n",
        "        print(\"File is empty\")\n",
        "except:\n",
        "  with open (\"hello.txt\",\"r\") as fo:\n",
        "    for i in fo:\n",
        "      print(i)"
      ],
      "metadata": {
        "colab": {
          "base_uri": "https://localhost:8080/"
        },
        "id": "M6s1Rcsu6PX0",
        "outputId": "14d248b8-5858-4789-e71b-2703a30faa51"
      },
      "execution_count": 21,
      "outputs": [
        {
          "output_type": "stream",
          "name": "stdout",
          "text": [
            "File is empty\n"
          ]
        }
      ]
    },
    {
      "cell_type": "code",
      "source": [
        "#Q16 Demonstrate how to use memory profiling to check the memory usage of a small program\n",
        "\n"
      ],
      "metadata": {
        "id": "P5_s-JXS6PhI"
      },
      "execution_count": null,
      "outputs": []
    },
    {
      "cell_type": "code",
      "source": [
        "#Q17 Write a Python program to create and write a list of numbers to a file, one number per line\n",
        "\n",
        "list2=[1,4,6,8,9]\n",
        "with open(\"hello.txt\",\"w\") as ff:\n",
        "  for i in list2:\n",
        "    ff.write(str(f\"{i} \\n\"))\n"
      ],
      "metadata": {
        "id": "VoWYGumu6Pvg"
      },
      "execution_count": 41,
      "outputs": []
    },
    {
      "cell_type": "code",
      "source": [
        "#Q18 How would you implement a basic logging setup that logs to a file with rotation after 1MB\n",
        "\n"
      ],
      "metadata": {
        "id": "ePhc4-2M6P6y"
      },
      "execution_count": null,
      "outputs": []
    },
    {
      "cell_type": "code",
      "source": [
        "# Q19 Write a program that handles both IndexError and KeyError using a try-except block\n",
        "\n",
        "subjects = {'Sreemati': 'Maths',\n",
        "            'Ramu': 'Biology',\n",
        "            'Shyama': 'Science',\n",
        "            'Abdullah': 'Hindi'}\n",
        "try:\n",
        "    print('subject of Faran is:',\n",
        "          subjects[\"Faran\"])\n",
        "    print(subjects[5])\n",
        "except KeyError:\n",
        "    print(\"records doesn't exist\")\n",
        "except IndexError:\n",
        "    print(\"Wrong index\")"
      ],
      "metadata": {
        "colab": {
          "base_uri": "https://localhost:8080/"
        },
        "id": "-qfgH_yG6QFK",
        "outputId": "86ca16b0-45ae-4ed2-f93f-63bfc4c5df01"
      },
      "execution_count": 49,
      "outputs": [
        {
          "output_type": "stream",
          "name": "stdout",
          "text": [
            "records doesn't exist\n"
          ]
        }
      ]
    },
    {
      "cell_type": "code",
      "source": [
        "# Q20 How would you open a file and read its contents using a context manager in Python\n",
        "\n",
        "with open (\"file.txt\",\"r\") as gh:\n",
        "  dataa=gh.read()\n",
        "  print(dataa)"
      ],
      "metadata": {
        "colab": {
          "base_uri": "https://localhost:8080/"
        },
        "id": "9b8J_o556QRo",
        "outputId": "09d3eb45-557d-4d78-ffa5-6ede15ba0823"
      },
      "execution_count": 50,
      "outputs": [
        {
          "output_type": "stream",
          "name": "stdout",
          "text": [
            "Hello World\n",
            "How are You\n",
            "What are you doing\n",
            "\n"
          ]
        }
      ]
    },
    {
      "cell_type": "code",
      "source": [
        "# Q21 Write a Python program that reads a file and prints the number of occurrences of a specific word\n",
        "\n",
        "\n",
        "word=input(\"Enter word to be searched:\")\n",
        "k = 0\n",
        "\n",
        "with open(\"file.txt\", 'r') as f:\n",
        "    for line in f:\n",
        "        words = line.split()\n",
        "        for i in words:\n",
        "            if(i==word):\n",
        "                k=k+1\n",
        "print(f\"Occurrences of the word {word}:\",k)"
      ],
      "metadata": {
        "colab": {
          "base_uri": "https://localhost:8080/"
        },
        "id": "phscMjrG6Qeb",
        "outputId": "cb1319bb-153f-4158-e77e-3cef33649d60"
      },
      "execution_count": 59,
      "outputs": [
        {
          "output_type": "stream",
          "name": "stdout",
          "text": [
            "Enter word to be searched:are\n",
            "Occurrences of the word are: 2\n"
          ]
        }
      ]
    },
    {
      "cell_type": "code",
      "source": [
        "# Q 22  How can you check if a file is empty before attempting to read its contents\n",
        "\n",
        "with open(\"hello.txt\",\"w\"):\n",
        "  pass\n",
        "try:\n",
        "  with open(\"hello.txt\", 'r') as fi:\n",
        "\n",
        "    first_char = fi.read(1)\n",
        "\n",
        "    if not first_char:\n",
        "        print(\"File is empty\")\n",
        "except:\n",
        "  print(\"File not empty\")"
      ],
      "metadata": {
        "colab": {
          "base_uri": "https://localhost:8080/"
        },
        "id": "zTwKWdXdJqIe",
        "outputId": "ad864a14-1bc7-455f-fcfd-2e0a63b88f61"
      },
      "execution_count": 60,
      "outputs": [
        {
          "output_type": "stream",
          "name": "stdout",
          "text": [
            "File is empty\n"
          ]
        }
      ]
    },
    {
      "cell_type": "code",
      "source": [
        "# Q23 Write a Python program that writes to a log file when an error occurs during file handling.\n",
        "\n",
        "import logging\n",
        "logging.basicConfig(filename='/tmp/myapp.log', level=logging.DEBUG,\n",
        "                    format='%(asctime)s %(levelname)s %(name)s %(message)s')\n",
        "logger=logging.getLogger(__name__)\n",
        "\n",
        "try:\n",
        "    1/0\n",
        "except ZeroDivisionError as err:\n",
        "    logger.error(err)"
      ],
      "metadata": {
        "colab": {
          "base_uri": "https://localhost:8080/"
        },
        "id": "aQaHxic5Jp59",
        "outputId": "3e98fe8d-8c06-4053-a3f5-c424e7399b19"
      },
      "execution_count": 61,
      "outputs": [
        {
          "output_type": "stream",
          "name": "stderr",
          "text": [
            "ERROR:__main__:division by zero\n"
          ]
        }
      ]
    },
    {
      "cell_type": "code",
      "source": [],
      "metadata": {
        "id": "kmW8tbxdJpfZ"
      },
      "execution_count": null,
      "outputs": []
    }
  ]
}